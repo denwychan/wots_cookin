{
 "cells": [
  {
   "cell_type": "code",
   "execution_count": 24,
   "id": "7fdfc91f",
   "metadata": {},
   "outputs": [],
   "source": [
    "import pandas as pd\n",
    "import gensim\n",
    "from collections import namedtuple\n",
    "import numpy as np"
   ]
  },
  {
   "cell_type": "code",
   "execution_count": 25,
   "id": "db20b1e1",
   "metadata": {},
   "outputs": [],
   "source": [
    "recipes_df = pd.read_csv(\"clean_data.csv\")"
   ]
  },
  {
   "cell_type": "code",
   "execution_count": 26,
   "id": "efe3a383",
   "metadata": {},
   "outputs": [],
   "source": [
    "def clean_list(ingredient_list):\n",
    "    ingredient_list = ingredient_list[2:-2]\n",
    "    ingredient_list = ''.join(ingredient_list)\n",
    "    ingredient_list = ingredient_list.split(\"', '\")\n",
    "    return ingredient_list"
   ]
  },
  {
   "cell_type": "code",
   "execution_count": 27,
   "id": "d6207c5a",
   "metadata": {},
   "outputs": [],
   "source": [
    "recipes_df[\"Clean_bag\"]=recipes_df[\"Bag_Of_Ingredients\"].map(clean_list)"
   ]
  },
  {
   "cell_type": "code",
   "execution_count": 180,
   "id": "22351dce",
   "metadata": {},
   "outputs": [
    {
     "data": {
      "text/plain": [
       "0       [chicken, acorn, squash, sage, rosemary, butte...\n",
       "1       [egg, whites, new, potatoes, ground, black, pe...\n",
       "2       [evaporated, milk, milk, garlic, powder, onion...\n",
       "3       [round, italian, loaf, olive, oil, sweet, ital...\n",
       "4       [dark, brown, bourbon, fresh, lemon, juice, ap...\n",
       "                              ...                        \n",
       "1995    [olive, oil, white, onion, garlic, cloves, cor...\n",
       "1996    [dried, chiles, árbol, seeds, ribs, tomatillos...\n",
       "1997    [soy, sauce, sesame, oil, red, pepper, garlic,...\n",
       "1998    [pork, shoulder, boston, butt, white, onion, r...\n",
       "1999    [allpurpose, flour, stick, butter, granulated,...\n",
       "Name: Clean_bag, Length: 2000, dtype: object"
      ]
     },
     "execution_count": 180,
     "metadata": {},
     "output_type": "execute_result"
    }
   ],
   "source": [
    "bag_of_ingredients = recipes_df[\"Clean_bag\"][0:2000]\n",
    "bag_of_ingredients"
   ]
  },
  {
   "cell_type": "code",
   "execution_count": 181,
   "id": "2375dfc5",
   "metadata": {},
   "outputs": [
    {
     "data": {
      "text/plain": [
       "'chicken acorn squash sage rosemary butter ground allspice red pepper ground black pepper loaf sturdy white bread apples gala pink lady extravirgin olive oil red onion apple cider vinegar white miso allpurpose flour butter dry white wine chicken broth white miso ground pepper'"
      ]
     },
     "execution_count": 181,
     "metadata": {},
     "output_type": "execute_result"
    }
   ],
   "source": [
    "' '.join(bag_of_ingredients[0])"
   ]
  },
  {
   "cell_type": "code",
   "execution_count": 152,
   "id": "290e22c8",
   "metadata": {},
   "outputs": [],
   "source": [
    "bag_of_ingredients = [' '.join(i) for i in bag_of_ingredients]"
   ]
  },
  {
   "cell_type": "code",
   "execution_count": 182,
   "id": "5e2f03a4",
   "metadata": {},
   "outputs": [],
   "source": [
    "docs = []\n",
    "analyzedDocument = namedtuple('AnalyzedDocument', 'words tags')\n",
    "for i, text in enumerate(bag_of_ingredients):\n",
    "    tags = [i]\n",
    "    docs.append(analyzedDocument(text, tags))"
   ]
  },
  {
   "cell_type": "code",
   "execution_count": 184,
   "id": "6493f8ba",
   "metadata": {},
   "outputs": [
    {
     "data": {
      "text/plain": [
       "AnalyzedDocument(words=['chicken', 'acorn', 'squash', 'sage', 'rosemary', 'butter', 'ground', 'allspice', 'red', 'pepper', 'ground', 'black', 'pepper', 'loaf', 'sturdy', 'white', 'bread', 'apples', 'gala', 'pink', 'lady', 'extravirgin', 'olive', 'oil', 'red', 'onion', 'apple', 'cider', 'vinegar', 'white', 'miso', 'allpurpose', 'flour', 'butter', 'dry', 'white', 'wine', 'chicken', 'broth', 'white', 'miso', 'ground', 'pepper'], tags=[0])"
      ]
     },
     "execution_count": 184,
     "metadata": {},
     "output_type": "execute_result"
    }
   ],
   "source": [
    "docs[0]"
   ]
  },
  {
   "cell_type": "code",
   "execution_count": 157,
   "id": "ee815dda",
   "metadata": {},
   "outputs": [],
   "source": [
    "model = gensim.models.doc2vec.Doc2Vec(docs,vector_size=50, min_count=5, epochs=50)"
   ]
  },
  {
   "cell_type": "code",
   "execution_count": 125,
   "id": "da704293",
   "metadata": {},
   "outputs": [
    {
     "data": {
      "text/plain": [
       "array([ 0.24197641, -0.02445859, -0.00326098,  0.06139241, -0.07989021,\n",
       "       -0.22866349, -0.17488764, -0.03433101, -0.1289581 , -0.5137616 ,\n",
       "       -0.10316258,  0.02797434, -0.24201329,  0.04295552, -0.08299074,\n",
       "       -0.3438963 , -0.26116714,  0.29388008, -0.07158969, -0.55803204,\n",
       "       -0.11007298, -0.07274986,  0.4576786 , -0.04881627, -0.33012903,\n",
       "        0.01321315, -0.5123358 , -0.02412922,  0.10079105,  0.41407886,\n",
       "        0.37535805, -0.23942783, -0.21409446, -0.16591   ,  0.08921493,\n",
       "       -0.4045692 , -0.70570284, -0.11214074,  0.08760179,  0.08898778,\n",
       "        0.11049935,  0.12668572, -0.1438299 ,  0.04167461,  0.3837487 ,\n",
       "        0.07198523, -0.0196912 ,  0.04038083,  0.4233031 , -0.34273905],\n",
       "      dtype=float32)"
      ]
     },
     "execution_count": 125,
     "metadata": {},
     "output_type": "execute_result"
    }
   ],
   "source": [
    "model.dv[0]"
   ]
  },
  {
   "cell_type": "code",
   "execution_count": 126,
   "id": "4f1c8f5f",
   "metadata": {},
   "outputs": [],
   "source": [
    "ingredients = [\"parmisan\",\"cheese\",\"avocado\",\"bread\",\"mushrooms\",\"beans\",\"sausage\"]"
   ]
  },
  {
   "cell_type": "code",
   "execution_count": 127,
   "id": "28cb7eff",
   "metadata": {},
   "outputs": [],
   "source": [
    "av_in_vector = model.infer_vector(ingredients)"
   ]
  },
  {
   "cell_type": "code",
   "execution_count": 128,
   "id": "5cde21e9",
   "metadata": {},
   "outputs": [],
   "source": [
    "from numpy import dot\n",
    "from numpy.linalg import norm\n",
    "\n",
    "def similar_recipe(ingredients):\n",
    "    cos_sim = []\n",
    "    for i in range(0,len(model.dv)):\n",
    "            cos_sim.append(np.dot(ingredients,model.dv[i])/(norm(ingredients)*norm(model.dv[i])))\n",
    "    dis_array = np.array(cos_sim)\n",
    "    return dis_array"
   ]
  },
  {
   "cell_type": "code",
   "execution_count": 129,
   "id": "ce89c4b6",
   "metadata": {},
   "outputs": [],
   "source": [
    "def getListofRecipes(cos_sim,n):\n",
    "    n_index = (-cos_sim).argsort()[:n]\n",
    "    titles = []\n",
    "    for i in n_index:\n",
    "        titles.append(recipes_df.iloc[i,1:3])\n",
    "    return titles"
   ]
  },
  {
   "cell_type": "code",
   "execution_count": 130,
   "id": "9f234623",
   "metadata": {},
   "outputs": [
    {
     "data": {
      "text/html": [
       "<div>\n",
       "<style scoped>\n",
       "    .dataframe tbody tr th:only-of-type {\n",
       "        vertical-align: middle;\n",
       "    }\n",
       "\n",
       "    .dataframe tbody tr th {\n",
       "        vertical-align: top;\n",
       "    }\n",
       "\n",
       "    .dataframe thead th {\n",
       "        text-align: right;\n",
       "    }\n",
       "</style>\n",
       "<table border=\"1\" class=\"dataframe\">\n",
       "  <thead>\n",
       "    <tr style=\"text-align: right;\">\n",
       "      <th></th>\n",
       "      <th>Title</th>\n",
       "      <th>Ingredients</th>\n",
       "    </tr>\n",
       "  </thead>\n",
       "  <tbody>\n",
       "    <tr>\n",
       "      <th>679</th>\n",
       "      <td>Cucumber-Seaweed Salad</td>\n",
       "      <td>['3/4 ounce dried wakame seaweed, cut into 1-i...</td>\n",
       "    </tr>\n",
       "    <tr>\n",
       "      <th>1223</th>\n",
       "      <td>Romano Beans with Mustard Vinaigrette and Walnuts</td>\n",
       "      <td>['1 cup walnuts', '3 lb. Romano beans or green...</td>\n",
       "    </tr>\n",
       "    <tr>\n",
       "      <th>168</th>\n",
       "      <td>Sorrel (Hibiscus) Tea</td>\n",
       "      <td>['2 cups dried hibiscus (sorrel) flowers', '1⁄...</td>\n",
       "    </tr>\n",
       "    <tr>\n",
       "      <th>656</th>\n",
       "      <td>Grilled Salt-and-Pepper Black Bass with Curry ...</td>\n",
       "      <td>['1 cup grapeseed or other neutral oil, divide...</td>\n",
       "    </tr>\n",
       "    <tr>\n",
       "      <th>977</th>\n",
       "      <td>Warm-Spiced Saucy Lamb Stew</td>\n",
       "      <td>['1/2 medium head of cauliflower', '3 Tbsp. ex...</td>\n",
       "    </tr>\n",
       "    <tr>\n",
       "      <th>301</th>\n",
       "      <td>Pickle Brine Spice Rub</td>\n",
       "      <td>['4 Tbsp. coriander seeds', '6 Tbsp. vinegar p...</td>\n",
       "    </tr>\n",
       "    <tr>\n",
       "      <th>491</th>\n",
       "      <td>Lebkuchen (German Honey Bars)</td>\n",
       "      <td>['1 cup (320g) honey', '2 tablespoons (30g) wa...</td>\n",
       "    </tr>\n",
       "    <tr>\n",
       "      <th>1536</th>\n",
       "      <td>Seared Radicchio and Roasted Beets</td>\n",
       "      <td>['6 medium beets, scrubbed', '5 tablespoons ex...</td>\n",
       "    </tr>\n",
       "    <tr>\n",
       "      <th>1007</th>\n",
       "      <td>Costa Rican Breakfast Bowl (Gallo Pinto)</td>\n",
       "      <td>['1/2 yellow onion, cut into 1/4-inch dice (ab...</td>\n",
       "    </tr>\n",
       "    <tr>\n",
       "      <th>178</th>\n",
       "      <td>Cornbread Muffins With Whipped Sweet Corn</td>\n",
       "      <td>['3 tablespoons coconut oil, plus more for gre...</td>\n",
       "    </tr>\n",
       "  </tbody>\n",
       "</table>\n",
       "</div>"
      ],
      "text/plain": [
       "                                                  Title  \\\n",
       "679                              Cucumber-Seaweed Salad   \n",
       "1223  Romano Beans with Mustard Vinaigrette and Walnuts   \n",
       "168                               Sorrel (Hibiscus) Tea   \n",
       "656   Grilled Salt-and-Pepper Black Bass with Curry ...   \n",
       "977                         Warm-Spiced Saucy Lamb Stew   \n",
       "301                              Pickle Brine Spice Rub   \n",
       "491                       Lebkuchen (German Honey Bars)   \n",
       "1536                 Seared Radicchio and Roasted Beets   \n",
       "1007           Costa Rican Breakfast Bowl (Gallo Pinto)   \n",
       "178           Cornbread Muffins With Whipped Sweet Corn   \n",
       "\n",
       "                                            Ingredients  \n",
       "679   ['3/4 ounce dried wakame seaweed, cut into 1-i...  \n",
       "1223  ['1 cup walnuts', '3 lb. Romano beans or green...  \n",
       "168   ['2 cups dried hibiscus (sorrel) flowers', '1⁄...  \n",
       "656   ['1 cup grapeseed or other neutral oil, divide...  \n",
       "977   ['1/2 medium head of cauliflower', '3 Tbsp. ex...  \n",
       "301   ['4 Tbsp. coriander seeds', '6 Tbsp. vinegar p...  \n",
       "491   ['1 cup (320g) honey', '2 tablespoons (30g) wa...  \n",
       "1536  ['6 medium beets, scrubbed', '5 tablespoons ex...  \n",
       "1007  ['1/2 yellow onion, cut into 1/4-inch dice (ab...  \n",
       "178   ['3 tablespoons coconut oil, plus more for gre...  "
      ]
     },
     "execution_count": 130,
     "metadata": {},
     "output_type": "execute_result"
    }
   ],
   "source": [
    "pd.DataFrame(getListofRecipes(similar_recipe(av_in_vector),10))"
   ]
  },
  {
   "cell_type": "markdown",
   "id": "cd6e0392",
   "metadata": {},
   "source": [
    "# Test doc2vec model"
   ]
  },
  {
   "cell_type": "code",
   "execution_count": 145,
   "id": "f02b7916",
   "metadata": {},
   "outputs": [
    {
     "name": "stdout",
     "output_type": "stream",
     "text": [
      "The autoreload extension is already loaded. To reload it, use:\n",
      "  %reload_ext autoreload\n"
     ]
    }
   ],
   "source": [
    "import os, sys\n",
    "%load_ext autoreload \n",
    "%autoreload 2"
   ]
  },
  {
   "cell_type": "code",
   "execution_count": 9,
   "id": "00584e08",
   "metadata": {},
   "outputs": [],
   "source": [
    "parent_path = os.path.split(os.getcwd())[0]\n",
    "if parent_path  not in sys.path:\n",
    "    sys.path.append(parent_path)"
   ]
  },
  {
   "cell_type": "code",
   "execution_count": 10,
   "id": "ff98c162",
   "metadata": {},
   "outputs": [],
   "source": [
    "from wots_cookin.data import load_data, load_full_stopwords, remove_formatting, load_clean_data, doc2vec_preprocessing\n",
    "from wots_cookin.doc2vec_trainer import *"
   ]
  },
  {
   "cell_type": "code",
   "execution_count": 11,
   "id": "feb5591e",
   "metadata": {},
   "outputs": [
    {
     "name": "stdout",
     "output_type": "stream",
     "text": [
      "8 rows containing NAs dropped...\n",
      "6 rows containing empty ingredients dropped...\n",
      "Data loaded.\n",
      "Cleaning formatting...\n",
      "Returning list of 461 stopwords\n",
      "Removing stopwords...\n",
      "Order's up!\n",
      "Returning dataframe with Bag_Of_Ingredients\n"
     ]
    }
   ],
   "source": [
    "df = load_clean_data()"
   ]
  },
  {
   "cell_type": "code",
   "execution_count": 12,
   "id": "9abf258b",
   "metadata": {},
   "outputs": [
    {
     "data": {
      "text/html": [
       "<div>\n",
       "<style scoped>\n",
       "    .dataframe tbody tr th:only-of-type {\n",
       "        vertical-align: middle;\n",
       "    }\n",
       "\n",
       "    .dataframe tbody tr th {\n",
       "        vertical-align: top;\n",
       "    }\n",
       "\n",
       "    .dataframe thead th {\n",
       "        text-align: right;\n",
       "    }\n",
       "</style>\n",
       "<table border=\"1\" class=\"dataframe\">\n",
       "  <thead>\n",
       "    <tr style=\"text-align: right;\">\n",
       "      <th></th>\n",
       "      <th>Title</th>\n",
       "      <th>Ingredients</th>\n",
       "      <th>Instructions</th>\n",
       "      <th>Image_Name</th>\n",
       "      <th>Cleaned_Ingredients</th>\n",
       "      <th>Bag_Of_Ingredients</th>\n",
       "    </tr>\n",
       "  </thead>\n",
       "  <tbody>\n",
       "    <tr>\n",
       "      <th>0</th>\n",
       "      <td>Miso-Butter Roast Chicken With Acorn Squash Pa...</td>\n",
       "      <td>['1 (3½–4-lb.) whole chicken', '2¾ tsp. kosher...</td>\n",
       "      <td>Pat chicken dry with paper towels, season all ...</td>\n",
       "      <td>miso-butter-roast-chicken-acorn-squash-panzanella</td>\n",
       "      <td>['1 (3½–4-lb.) whole chicken', '2¾ tsp. kosher...</td>\n",
       "      <td>[chicken, acorn, squash, sage, rosemary, butte...</td>\n",
       "    </tr>\n",
       "    <tr>\n",
       "      <th>1</th>\n",
       "      <td>Crispy Salt and Pepper Potatoes</td>\n",
       "      <td>['2 large egg whites', '1 pound new potatoes (...</td>\n",
       "      <td>Preheat oven to 400°F and line a rimmed baking...</td>\n",
       "      <td>crispy-salt-and-pepper-potatoes-dan-kluger</td>\n",
       "      <td>['2 large egg whites', '1 pound new potatoes (...</td>\n",
       "      <td>[egg, whites, new, potatoes, ground, black, pe...</td>\n",
       "    </tr>\n",
       "    <tr>\n",
       "      <th>2</th>\n",
       "      <td>Thanksgiving Mac and Cheese</td>\n",
       "      <td>['1 cup evaporated milk', '1 cup whole milk', ...</td>\n",
       "      <td>Place a rack in middle of oven; preheat to 400...</td>\n",
       "      <td>thanksgiving-mac-and-cheese-erick-williams</td>\n",
       "      <td>['1 cup evaporated milk', '1 cup whole milk', ...</td>\n",
       "      <td>[evaporated, milk, milk, garlic, powder, onion...</td>\n",
       "    </tr>\n",
       "    <tr>\n",
       "      <th>3</th>\n",
       "      <td>Italian Sausage and Bread Stuffing</td>\n",
       "      <td>['1 (¾- to 1-pound) round Italian loaf, cut in...</td>\n",
       "      <td>Preheat oven to 350°F with rack in middle. Gen...</td>\n",
       "      <td>italian-sausage-and-bread-stuffing-240559</td>\n",
       "      <td>['1 (¾- to 1-pound) round Italian loaf, cut in...</td>\n",
       "      <td>[round, italian, loaf, olive, oil, sweet, ital...</td>\n",
       "    </tr>\n",
       "    <tr>\n",
       "      <th>4</th>\n",
       "      <td>Newton's Law</td>\n",
       "      <td>['1 teaspoon dark brown sugar', '1 teaspoon ho...</td>\n",
       "      <td>Stir together brown sugar and hot water in a c...</td>\n",
       "      <td>newtons-law-apple-bourbon-cocktail</td>\n",
       "      <td>['1 teaspoon dark brown sugar', '1 teaspoon ho...</td>\n",
       "      <td>[dark, brown, bourbon, fresh, lemon, juice, ap...</td>\n",
       "    </tr>\n",
       "  </tbody>\n",
       "</table>\n",
       "</div>"
      ],
      "text/plain": [
       "                                               Title  \\\n",
       "0  Miso-Butter Roast Chicken With Acorn Squash Pa...   \n",
       "1                    Crispy Salt and Pepper Potatoes   \n",
       "2                        Thanksgiving Mac and Cheese   \n",
       "3                 Italian Sausage and Bread Stuffing   \n",
       "4                                       Newton's Law   \n",
       "\n",
       "                                         Ingredients  \\\n",
       "0  ['1 (3½–4-lb.) whole chicken', '2¾ tsp. kosher...   \n",
       "1  ['2 large egg whites', '1 pound new potatoes (...   \n",
       "2  ['1 cup evaporated milk', '1 cup whole milk', ...   \n",
       "3  ['1 (¾- to 1-pound) round Italian loaf, cut in...   \n",
       "4  ['1 teaspoon dark brown sugar', '1 teaspoon ho...   \n",
       "\n",
       "                                        Instructions  \\\n",
       "0  Pat chicken dry with paper towels, season all ...   \n",
       "1  Preheat oven to 400°F and line a rimmed baking...   \n",
       "2  Place a rack in middle of oven; preheat to 400...   \n",
       "3  Preheat oven to 350°F with rack in middle. Gen...   \n",
       "4  Stir together brown sugar and hot water in a c...   \n",
       "\n",
       "                                          Image_Name  \\\n",
       "0  miso-butter-roast-chicken-acorn-squash-panzanella   \n",
       "1         crispy-salt-and-pepper-potatoes-dan-kluger   \n",
       "2         thanksgiving-mac-and-cheese-erick-williams   \n",
       "3          italian-sausage-and-bread-stuffing-240559   \n",
       "4                 newtons-law-apple-bourbon-cocktail   \n",
       "\n",
       "                                 Cleaned_Ingredients  \\\n",
       "0  ['1 (3½–4-lb.) whole chicken', '2¾ tsp. kosher...   \n",
       "1  ['2 large egg whites', '1 pound new potatoes (...   \n",
       "2  ['1 cup evaporated milk', '1 cup whole milk', ...   \n",
       "3  ['1 (¾- to 1-pound) round Italian loaf, cut in...   \n",
       "4  ['1 teaspoon dark brown sugar', '1 teaspoon ho...   \n",
       "\n",
       "                                  Bag_Of_Ingredients  \n",
       "0  [chicken, acorn, squash, sage, rosemary, butte...  \n",
       "1  [egg, whites, new, potatoes, ground, black, pe...  \n",
       "2  [evaporated, milk, milk, garlic, powder, onion...  \n",
       "3  [round, italian, loaf, olive, oil, sweet, ital...  \n",
       "4  [dark, brown, bourbon, fresh, lemon, juice, ap...  "
      ]
     },
     "execution_count": 12,
     "metadata": {},
     "output_type": "execute_result"
    }
   ],
   "source": [
    "df.head()"
   ]
  },
  {
   "cell_type": "code",
   "execution_count": 189,
   "id": "a10ac41c",
   "metadata": {},
   "outputs": [],
   "source": [
    "bag_of_ingredients = df['Bag_Of_Ingredients'][0:2000]"
   ]
  },
  {
   "cell_type": "code",
   "execution_count": 170,
   "id": "980f98a3",
   "metadata": {},
   "outputs": [],
   "source": [
    "model = Doc2VecTrainer()"
   ]
  },
  {
   "cell_type": "code",
   "execution_count": 190,
   "id": "99a52919",
   "metadata": {},
   "outputs": [],
   "source": [
    "bag_of_ingredients = doc2vec_preprocessing(bag_of_ingredients)"
   ]
  },
  {
   "cell_type": "code",
   "execution_count": 191,
   "id": "22a4d0bc",
   "metadata": {},
   "outputs": [
    {
     "data": {
      "text/plain": [
       "AnalyzedDocument(words=['chicken', 'acorn', 'squash', 'sage', 'rosemary', 'butter', 'ground', 'allspice', 'red', 'pepper', 'ground', 'black', 'pepper', 'loaf', 'sturdy', 'white', 'bread', 'apples', 'gala', 'pink', 'lady', 'extravirgin', 'olive', 'oil', 'red', 'onion', 'apple', 'cider', 'vinegar', 'white', 'miso', 'allpurpose', 'flour', 'butter', 'dry', 'white', 'wine', 'chicken', 'broth', 'white', 'miso', 'ground', 'pepper'], tags=[0])"
      ]
     },
     "execution_count": 191,
     "metadata": {},
     "output_type": "execute_result"
    }
   ],
   "source": [
    "bag_of_ingredients[0]"
   ]
  },
  {
   "cell_type": "code",
   "execution_count": 192,
   "id": "1af5be2a",
   "metadata": {},
   "outputs": [
    {
     "name": "stdout",
     "output_type": "stream",
     "text": [
      "Recipes corpus set\n",
      "Model trained!\n"
     ]
    },
    {
     "data": {
      "text/plain": [
       "<wots_cookin.doc2vec_trainer.Doc2VecTrainer at 0x7f750fa81880>"
      ]
     },
     "execution_count": 192,
     "metadata": {},
     "output_type": "execute_result"
    }
   ],
   "source": [
    "model.train_model(bag_of_ingredients)"
   ]
  },
  {
   "cell_type": "code",
   "execution_count": 193,
   "id": "3495f742",
   "metadata": {},
   "outputs": [
    {
     "data": {
      "text/plain": [
       "<gensim.models.keyedvectors.KeyedVectors at 0x7f750fa9e2e0>"
      ]
     },
     "execution_count": 193,
     "metadata": {},
     "output_type": "execute_result"
    }
   ],
   "source": [
    "model.model.dv"
   ]
  },
  {
   "cell_type": "code",
   "execution_count": 194,
   "id": "c02f68e8",
   "metadata": {},
   "outputs": [],
   "source": [
    "ingredients =[ 'chicken', 'acorn', 'squash', 'sage', 'rosemary', 'butter', 'ground', 'allspice', 'red', 'pepper', 'ground', 'black', 'pepper', 'loaf', 'sturdy', 'white', 'bread', 'apples', 'gala', 'pink', 'lady', 'extravirgin', 'olive', 'oil', 'red', 'onion', 'apple', 'cider', 'vinegar', 'white', 'miso', 'allpurpose', 'flour', 'butter', 'dry', 'white', 'wine', 'chicken', 'broth', 'white', 'miso', 'ground', 'pepper']"
   ]
  },
  {
   "cell_type": "code",
   "execution_count": 195,
   "id": "795d98c1",
   "metadata": {},
   "outputs": [
    {
     "data": {
      "text/plain": [
       "array([-0.00475507,  0.11997607, -0.09517194,  0.02346379,  0.03063754,\n",
       "       -0.01324059,  0.01678705, -0.06888784, -0.06190748,  0.01709206,\n",
       "        0.05240265,  0.04429502, -0.11902413, -0.0778882 , -0.07986069,\n",
       "        0.17412157, -0.02143359,  0.05140143, -0.05761551, -0.07579109,\n",
       "       -0.08365007,  0.03830429, -0.09540305, -0.15589367, -0.086905  ,\n",
       "       -0.00526428,  0.18678032, -0.11180825,  0.09969003, -0.11832611,\n",
       "       -0.06010412, -0.04320149,  0.07060476,  0.13128188, -0.02126477,\n",
       "       -0.05280431,  0.03399032,  0.04824045,  0.05225614, -0.07418419,\n",
       "       -0.03391881,  0.01117652, -0.00925263,  0.05628886, -0.03894513,\n",
       "       -0.02443234,  0.05185473,  0.096393  , -0.05823968,  0.12364227],\n",
       "      dtype=float32)"
      ]
     },
     "execution_count": 195,
     "metadata": {},
     "output_type": "execute_result"
    }
   ],
   "source": [
    "model.get_ingredients_vector(ingredients)"
   ]
  },
  {
   "cell_type": "code",
   "execution_count": 196,
   "id": "2839f783",
   "metadata": {},
   "outputs": [
    {
     "data": {
      "text/plain": [
       "array([ 0.6970462 ,  0.14644414,  0.06359537, ...,  0.33516115,\n",
       "       -0.05154458,  0.16619058], dtype=float32)"
      ]
     },
     "execution_count": 196,
     "metadata": {},
     "output_type": "execute_result"
    }
   ],
   "source": [
    "model.get_similarity_score(ingredients)"
   ]
  },
  {
   "cell_type": "code",
   "execution_count": 197,
   "id": "ed3f0bab",
   "metadata": {},
   "outputs": [
    {
     "data": {
      "text/html": [
       "<div>\n",
       "<style scoped>\n",
       "    .dataframe tbody tr th:only-of-type {\n",
       "        vertical-align: middle;\n",
       "    }\n",
       "\n",
       "    .dataframe tbody tr th {\n",
       "        vertical-align: top;\n",
       "    }\n",
       "\n",
       "    .dataframe thead th {\n",
       "        text-align: right;\n",
       "    }\n",
       "</style>\n",
       "<table border=\"1\" class=\"dataframe\">\n",
       "  <thead>\n",
       "    <tr style=\"text-align: right;\">\n",
       "      <th></th>\n",
       "      <th>Title</th>\n",
       "      <th>Ingredients</th>\n",
       "      <th>Instructions</th>\n",
       "      <th>Image_Name</th>\n",
       "      <th>Cleaned_Ingredients</th>\n",
       "      <th>Bag_Of_Ingredients</th>\n",
       "    </tr>\n",
       "  </thead>\n",
       "  <tbody>\n",
       "    <tr>\n",
       "      <th>0</th>\n",
       "      <td>Miso-Butter Roast Chicken With Acorn Squash Pa...</td>\n",
       "      <td>['1 (3½–4-lb.) whole chicken', '2¾ tsp. kosher...</td>\n",
       "      <td>Pat chicken dry with paper towels, season all ...</td>\n",
       "      <td>miso-butter-roast-chicken-acorn-squash-panzanella</td>\n",
       "      <td>['1 (3½–4-lb.) whole chicken', '2¾ tsp. kosher...</td>\n",
       "      <td>[chicken, acorn, squash, sage, rosemary, butte...</td>\n",
       "    </tr>\n",
       "    <tr>\n",
       "      <th>1595</th>\n",
       "      <td>Stock-Braised Turkey Legs</td>\n",
       "      <td>['2 tablespoons Diamond Crystal or 1 tablespoo...</td>\n",
       "      <td>Place salt and brown sugar in a small bowl and...</td>\n",
       "      <td>stock-braised-turkey-legs</td>\n",
       "      <td>['2 tablespoons Diamond Crystal or 1 tablespoo...</td>\n",
       "      <td>[light, brown, turkey, legs, thigh, drumstick,...</td>\n",
       "    </tr>\n",
       "    <tr>\n",
       "      <th>1234</th>\n",
       "      <td>Ramp Fritters</td>\n",
       "      <td>['1 cup all-purpose flour', '3/4 cup rice flou...</td>\n",
       "      <td>Remove any slippery outer layers from ramp bul...</td>\n",
       "      <td>ramp-fritters</td>\n",
       "      <td>['1 cup all-purpose flour', '3/4 cup rice flou...</td>\n",
       "      <td>[allpurpose, flour, rice, flour, baking, powde...</td>\n",
       "    </tr>\n",
       "    <tr>\n",
       "      <th>137</th>\n",
       "      <td>Jerk Potato Salad</td>\n",
       "      <td>['Zest and juice of 2 limes', '2 habanero chil...</td>\n",
       "      <td>Using a fork, mix lime zest and juice, chiles,...</td>\n",
       "      <td>jerk-potato-salad</td>\n",
       "      <td>['Zest and juice of 2 limes', '2 habanero chil...</td>\n",
       "      <td>[juice, limes, habanero, chiles, seeds, ginger...</td>\n",
       "    </tr>\n",
       "    <tr>\n",
       "      <th>171</th>\n",
       "      <td>Pulled Pork Sandwiches</td>\n",
       "      <td>['4 tablespoons sweet paprika', '2 tablespoons...</td>\n",
       "      <td>Add paprika, chili powder, cumin, brown sugar,...</td>\n",
       "      <td>pulled-pork-sandwiches-big-hurt-bbq</td>\n",
       "      <td>['4 tablespoons sweet paprika', '2 tablespoons...</td>\n",
       "      <td>[sweet, paprika, chili, powder, ground, cumin,...</td>\n",
       "    </tr>\n",
       "    <tr>\n",
       "      <th>872</th>\n",
       "      <td>Pimiento Cheese Crackers</td>\n",
       "      <td>['12 oz. sharp cheddar, coarsely grated (about...</td>\n",
       "      <td>Pulse cheese, flour, salt, and cayenne in a fo...</td>\n",
       "      <td>pimiento-cheese-crackers</td>\n",
       "      <td>['12 oz. sharp cheddar, coarsely grated (about...</td>\n",
       "      <td>[cheddar, allpurpose, flour, cayenne, pepper, ...</td>\n",
       "    </tr>\n",
       "    <tr>\n",
       "      <th>1586</th>\n",
       "      <td>Make-Ahead Gravy</td>\n",
       "      <td>['1 tablespoon vegetable oil', '1 pound chicke...</td>\n",
       "      <td>Heat oil in a large saucepan over medium-high....</td>\n",
       "      <td>make-ahead-gravy</td>\n",
       "      <td>['1 tablespoon vegetable oil', '1 pound chicke...</td>\n",
       "      <td>[vegetable, oil, chicken, wings, onion, carrot...</td>\n",
       "    </tr>\n",
       "    <tr>\n",
       "      <th>1603</th>\n",
       "      <td>Green Bean and Mushroom Casserole with Crispy ...</td>\n",
       "      <td>['2 pounds mixed wild mushrooms, trimmed, halv...</td>\n",
       "      <td>Preheat oven to 425ºF. Line 2 rimmed baking sh...</td>\n",
       "      <td>green-bean-and-mushroom-casserole-with-crispy-...</td>\n",
       "      <td>['2 pounds mixed wild mushrooms, trimmed, halv...</td>\n",
       "      <td>[wild, mushrooms, thyme, extravirgin, olive, o...</td>\n",
       "    </tr>\n",
       "    <tr>\n",
       "      <th>1710</th>\n",
       "      <td>Grilled Turkey Under a Brick</td>\n",
       "      <td>['Diamond Crystal or Morton kosher salt (see b...</td>\n",
       "      <td>Determine how much salt you need for your bird...</td>\n",
       "      <td>grilled-turkey-under-a-brick</td>\n",
       "      <td>['Diamond Crystal or Morton kosher salt (see b...</td>\n",
       "      <td>[ground, mustard, powder, paprika, dried, thym...</td>\n",
       "    </tr>\n",
       "    <tr>\n",
       "      <th>1826</th>\n",
       "      <td>Cinnamon Apple Cupcakes</td>\n",
       "      <td>['1 cup granulated sugar', '3/4 cup butter, so...</td>\n",
       "      <td>Preheat the oven to 350°F. Line two standard c...</td>\n",
       "      <td>cinnamon-apple-cupcakes</td>\n",
       "      <td>['1 cup granulated sugar', '3/4 cup butter, so...</td>\n",
       "      <td>[granulated, butter, eggs, vanilla, extract, m...</td>\n",
       "    </tr>\n",
       "    <tr>\n",
       "      <th>1669</th>\n",
       "      <td>Vegan \"Tofurkey\" with Mushroom Stuffing and Gravy</td>\n",
       "      <td>['4 tablespoons vegetable oil, divided, plus m...</td>\n",
       "      <td>Preheat oven to 425°F. Grease oval pan with oi...</td>\n",
       "      <td>vegan-tofurkey-with-mushroom-stuffing-and-gravy</td>\n",
       "      <td>['4 tablespoons vegetable oil, divided, plus m...</td>\n",
       "      <td>[vegetable, oil, french, demi, baguette, raw, ...</td>\n",
       "    </tr>\n",
       "    <tr>\n",
       "      <th>735</th>\n",
       "      <td>Cashew Chicken</td>\n",
       "      <td>['2 Tbsp. oyster sauce', '1 Tbsp. rice vinegar...</td>\n",
       "      <td>Combine oyster sauce, vinegar, soy sauce, brow...</td>\n",
       "      <td>cashew-chicken</td>\n",
       "      <td>['2 Tbsp. oyster sauce', '1 Tbsp. rice vinegar...</td>\n",
       "      <td>[oyster, sauce, rice, vinegar, soy, sauce, lig...</td>\n",
       "    </tr>\n",
       "    <tr>\n",
       "      <th>1738</th>\n",
       "      <td>Tomato Tart with Chickpea Crumble</td>\n",
       "      <td>['1 (7 1/2-ounce) prepared pie crust or homema...</td>\n",
       "      <td>Preheat oven to 450°F. Roll out dough on a lig...</td>\n",
       "      <td>tomato-tart-with-chickpea-crumble</td>\n",
       "      <td>['1 (7 1/2-ounce) prepared pie crust or homema...</td>\n",
       "      <td>[pie, crust, pie, dough, defrosted, allpurpose...</td>\n",
       "    </tr>\n",
       "    <tr>\n",
       "      <th>1451</th>\n",
       "      <td>Cashew and Coconut Shrimp</td>\n",
       "      <td>['1/2 cup mango peach jam', '2 tablespoons whi...</td>\n",
       "      <td>Combine the jam, vinegar, and red pepper flake...</td>\n",
       "      <td>cashew-and-coconut-fried-shrimp</td>\n",
       "      <td>['1/2 cup mango peach jam', '2 tablespoons whi...</td>\n",
       "      <td>[mango, peach, jam, white, vinegar, red, peppe...</td>\n",
       "    </tr>\n",
       "    <tr>\n",
       "      <th>1602</th>\n",
       "      <td>Caramel Apple Drip Cake with Candied Walnuts</td>\n",
       "      <td>['1 cup raw walnuts', 'Nonstick vegetable oil ...</td>\n",
       "      <td>Position a rack in center of oven; preheat to ...</td>\n",
       "      <td>caramel-apple-drip-cake-with-candied-walnuts</td>\n",
       "      <td>['1 cup raw walnuts', 'Nonstick vegetable oil ...</td>\n",
       "      <td>[raw, walnuts, vegetable, oil, allpurpose, flo...</td>\n",
       "    </tr>\n",
       "    <tr>\n",
       "      <th>1599</th>\n",
       "      <td>Spiced Turkey Chili with Spaghetti Squash</td>\n",
       "      <td>['2 small or 1 large spaghetti squash (3–3 1/2...</td>\n",
       "      <td>Preheat oven to 375°F. Season squash with 1 ts...</td>\n",
       "      <td>spiced-turkey-chili-with-spaghetti-squash</td>\n",
       "      <td>['2 small or 1 large spaghetti squash (3–3 1/2...</td>\n",
       "      <td>[spaghetti, squash, extravirgin, olive, oil, g...</td>\n",
       "    </tr>\n",
       "    <tr>\n",
       "      <th>1247</th>\n",
       "      <td>Pan-Seared Ribeye with Miso Butter</td>\n",
       "      <td>['1/4 cup (56 g) unsalted butter, softened', '...</td>\n",
       "      <td>For the miso butter, combine the softened butt...</td>\n",
       "      <td>pan-seared-ribeye-with-miso-butter</td>\n",
       "      <td>['1/4 cup (56 g) unsalted butter, softened', '...</td>\n",
       "      <td>[g, butter, g, yellow, miso, paste, g, green, ...</td>\n",
       "    </tr>\n",
       "    <tr>\n",
       "      <th>945</th>\n",
       "      <td>Skillet Dressing with Cornbread and Biscuits</td>\n",
       "      <td>['1 1/2 cups fine-grind white cornmeal', '1/2 ...</td>\n",
       "      <td>Place a large cast-iron skillet in oven; prehe...</td>\n",
       "      <td>skillet-dressing-with-cornbread-and-biscuits</td>\n",
       "      <td>['1 1/2 cups fine-grind white cornmeal', '1/2 ...</td>\n",
       "      <td>[finegrind, white, cornmeal, allpurpose, flour...</td>\n",
       "    </tr>\n",
       "    <tr>\n",
       "      <th>122</th>\n",
       "      <td>Tortillas de Harina (Flour Tortillas)</td>\n",
       "      <td>['3 cups all-purpose flour, plus more if neede...</td>\n",
       "      <td>Mix the flour and pork lard with your fingers ...</td>\n",
       "      <td>tortillas-de-harina-flour-tortillas</td>\n",
       "      <td>['3 cups all-purpose flour, plus more if neede...</td>\n",
       "      <td>[allpurpose, flour, pork, lard, vegetable, sho...</td>\n",
       "    </tr>\n",
       "    <tr>\n",
       "      <th>1246</th>\n",
       "      <td>Blackened Salmon with Pineapple Salsa</td>\n",
       "      <td>['1 tablespoon ground paprika', '1 teaspoon ga...</td>\n",
       "      <td>Preheat the oven to 375°F.\\nIn a bowl, combine...</td>\n",
       "      <td>blackened-salmon-with-pineapple-salsa</td>\n",
       "      <td>['1 tablespoon ground paprika', '1 teaspoon ga...</td>\n",
       "      <td>[ground, paprika, garlic, granules, dried, thy...</td>\n",
       "    </tr>\n",
       "    <tr>\n",
       "      <th>59</th>\n",
       "      <td>Salt-and-Pepper Fish</td>\n",
       "      <td>['1 cup short-grain sushi rice', '8 scallions'...</td>\n",
       "      <td>Rinse rice in several changes of cold water in...</td>\n",
       "      <td>pan-seared-salt-and-pepper-fish</td>\n",
       "      <td>['1 cup short-grain sushi rice', '8 scallions'...</td>\n",
       "      <td>[shortgrain, sushi, rice, scallions, ginger, v...</td>\n",
       "    </tr>\n",
       "    <tr>\n",
       "      <th>963</th>\n",
       "      <td>Turkey for Twenty</td>\n",
       "      <td>['3/4 cup Diamond Crystal or 7 Tbsp. Morton ko...</td>\n",
       "      <td>Mix salt, brown sugar, and pepper with your fi...</td>\n",
       "      <td>turkey-for-twenty</td>\n",
       "      <td>['3/4 cup Diamond Crystal or 7 Tbsp. Morton ko...</td>\n",
       "      <td>[light, brown, ground, black, pepper, turkey, ...</td>\n",
       "    </tr>\n",
       "    <tr>\n",
       "      <th>309</th>\n",
       "      <td>Cabbage Potato Pie</td>\n",
       "      <td>['2 lb. russet potatoes, peeled, cut into 2\" p...</td>\n",
       "      <td>Preheat oven to 400°F. Place potatoes in a med...</td>\n",
       "      <td>cabbage-potato-pie</td>\n",
       "      <td>['2 lb. russet potatoes, peeled, cut into 2\" p...</td>\n",
       "      <td>[russet, potatoes, butter, savoy, cabbage, bac...</td>\n",
       "    </tr>\n",
       "    <tr>\n",
       "      <th>1397</th>\n",
       "      <td>Sticky Maple and Bourbon Pork Ribs</td>\n",
       "      <td>['2 cups (500ml) malt vinegar', '2 quarts (2 l...</td>\n",
       "      <td>Place the vinegar, water, bay leaves, cinnamon...</td>\n",
       "      <td>oven-roasted-maple-and-bourbon-barbecue-pork-ribs</td>\n",
       "      <td>['2 cups (500ml) malt vinegar', '2 quarts (2 l...</td>\n",
       "      <td>[malt, vinegar, liters, bay, leaves, cinnamon,...</td>\n",
       "    </tr>\n",
       "    <tr>\n",
       "      <th>1953</th>\n",
       "      <td>Korean Fried Chicken</td>\n",
       "      <td>['Vegetable or canola oil (for frying; about 2...</td>\n",
       "      <td>Set a wire rack inside a rimmed baking sheet a...</td>\n",
       "      <td>korean-fried-chicken</td>\n",
       "      <td>['Vegetable or canola oil (for frying; about 2...</td>\n",
       "      <td>[vegetable, canola, oil, sesame, seeds, sesame...</td>\n",
       "    </tr>\n",
       "    <tr>\n",
       "      <th>1169</th>\n",
       "      <td>Sweet-and-Spicy Slaw</td>\n",
       "      <td>['1/2 cup apple cider vinegar', '6 Tbsp. peach...</td>\n",
       "      <td>Whisk vinegar, peach nectar, oil, hot sauce, r...</td>\n",
       "      <td>sweet-and-spicy-slaw</td>\n",
       "      <td>['1/2 cup apple cider vinegar', '6 Tbsp. peach...</td>\n",
       "      <td>[apple, cider, vinegar, peach, nectar, juice, ...</td>\n",
       "    </tr>\n",
       "    <tr>\n",
       "      <th>780</th>\n",
       "      <td>Corned Beef with Crispy Roasted Potatoes and C...</td>\n",
       "      <td>['1 (3–4-lb.) corned beef brisket', '2 lb. rus...</td>\n",
       "      <td>Place corned beef in a large pot. Add enough w...</td>\n",
       "      <td>corned-beef-with-crispy-roasted-potatoes-and-c...</td>\n",
       "      <td>['1 (3–4-lb.) corned beef brisket', '2 lb. rus...</td>\n",
       "      <td>[corned, beef, brisket, russet, potatoes, extr...</td>\n",
       "    </tr>\n",
       "    <tr>\n",
       "      <th>204</th>\n",
       "      <td>Pork and Asparagus Stir-Fry</td>\n",
       "      <td>['3 tsp. peanut or vegetable oil, divided', '2...</td>\n",
       "      <td>Heat 1 tsp. peanut oil in a large skillet over...</td>\n",
       "      <td>pork-and-asparagus-stir-fry</td>\n",
       "      <td>['3 tsp. peanut or vegetable oil, divided', '2...</td>\n",
       "      <td>[peanut, vegetable, oil, asparagus, ground, po...</td>\n",
       "    </tr>\n",
       "    <tr>\n",
       "      <th>159</th>\n",
       "      <td>Caribbean Smothered Chicken With Coconut, Lime...</td>\n",
       "      <td>['1 teaspoon vegetable oil', '4 large bone-in,...</td>\n",
       "      <td>Heat the oil in a shallow Dutch oven or casser...</td>\n",
       "      <td>caribbean-smothered-chicken-with-coconut-lime-...</td>\n",
       "      <td>['1 teaspoon vegetable oil', '4 large bone-in,...</td>\n",
       "      <td>[vegetable, oil, chicken, ground, black, peppe...</td>\n",
       "    </tr>\n",
       "    <tr>\n",
       "      <th>600</th>\n",
       "      <td>Tomato Galette</td>\n",
       "      <td>['2 cups all-purpose flour, plus more for dust...</td>\n",
       "      <td>Pulse 2 cups flour and 1 1/4 tsp. kosher salt ...</td>\n",
       "      <td>tomato-galette</td>\n",
       "      <td>['2 cups all-purpose flour, plus more for dust...</td>\n",
       "      <td>[allpurpose, flour, butter, apple, cider, vine...</td>\n",
       "    </tr>\n",
       "  </tbody>\n",
       "</table>\n",
       "</div>"
      ],
      "text/plain": [
       "                                                  Title  \\\n",
       "0     Miso-Butter Roast Chicken With Acorn Squash Pa...   \n",
       "1595                          Stock-Braised Turkey Legs   \n",
       "1234                                      Ramp Fritters   \n",
       "137                                   Jerk Potato Salad   \n",
       "171                              Pulled Pork Sandwiches   \n",
       "872                            Pimiento Cheese Crackers   \n",
       "1586                                   Make-Ahead Gravy   \n",
       "1603  Green Bean and Mushroom Casserole with Crispy ...   \n",
       "1710                       Grilled Turkey Under a Brick   \n",
       "1826                            Cinnamon Apple Cupcakes   \n",
       "1669  Vegan \"Tofurkey\" with Mushroom Stuffing and Gravy   \n",
       "735                                      Cashew Chicken   \n",
       "1738                  Tomato Tart with Chickpea Crumble   \n",
       "1451                          Cashew and Coconut Shrimp   \n",
       "1602       Caramel Apple Drip Cake with Candied Walnuts   \n",
       "1599          Spiced Turkey Chili with Spaghetti Squash   \n",
       "1247                 Pan-Seared Ribeye with Miso Butter   \n",
       "945        Skillet Dressing with Cornbread and Biscuits   \n",
       "122               Tortillas de Harina (Flour Tortillas)   \n",
       "1246              Blackened Salmon with Pineapple Salsa   \n",
       "59                                 Salt-and-Pepper Fish   \n",
       "963                                   Turkey for Twenty   \n",
       "309                                  Cabbage Potato Pie   \n",
       "1397                 Sticky Maple and Bourbon Pork Ribs   \n",
       "1953                               Korean Fried Chicken   \n",
       "1169                               Sweet-and-Spicy Slaw   \n",
       "780   Corned Beef with Crispy Roasted Potatoes and C...   \n",
       "204                         Pork and Asparagus Stir-Fry   \n",
       "159   Caribbean Smothered Chicken With Coconut, Lime...   \n",
       "600                                      Tomato Galette   \n",
       "\n",
       "                                            Ingredients  \\\n",
       "0     ['1 (3½–4-lb.) whole chicken', '2¾ tsp. kosher...   \n",
       "1595  ['2 tablespoons Diamond Crystal or 1 tablespoo...   \n",
       "1234  ['1 cup all-purpose flour', '3/4 cup rice flou...   \n",
       "137   ['Zest and juice of 2 limes', '2 habanero chil...   \n",
       "171   ['4 tablespoons sweet paprika', '2 tablespoons...   \n",
       "872   ['12 oz. sharp cheddar, coarsely grated (about...   \n",
       "1586  ['1 tablespoon vegetable oil', '1 pound chicke...   \n",
       "1603  ['2 pounds mixed wild mushrooms, trimmed, halv...   \n",
       "1710  ['Diamond Crystal or Morton kosher salt (see b...   \n",
       "1826  ['1 cup granulated sugar', '3/4 cup butter, so...   \n",
       "1669  ['4 tablespoons vegetable oil, divided, plus m...   \n",
       "735   ['2 Tbsp. oyster sauce', '1 Tbsp. rice vinegar...   \n",
       "1738  ['1 (7 1/2-ounce) prepared pie crust or homema...   \n",
       "1451  ['1/2 cup mango peach jam', '2 tablespoons whi...   \n",
       "1602  ['1 cup raw walnuts', 'Nonstick vegetable oil ...   \n",
       "1599  ['2 small or 1 large spaghetti squash (3–3 1/2...   \n",
       "1247  ['1/4 cup (56 g) unsalted butter, softened', '...   \n",
       "945   ['1 1/2 cups fine-grind white cornmeal', '1/2 ...   \n",
       "122   ['3 cups all-purpose flour, plus more if neede...   \n",
       "1246  ['1 tablespoon ground paprika', '1 teaspoon ga...   \n",
       "59    ['1 cup short-grain sushi rice', '8 scallions'...   \n",
       "963   ['3/4 cup Diamond Crystal or 7 Tbsp. Morton ko...   \n",
       "309   ['2 lb. russet potatoes, peeled, cut into 2\" p...   \n",
       "1397  ['2 cups (500ml) malt vinegar', '2 quarts (2 l...   \n",
       "1953  ['Vegetable or canola oil (for frying; about 2...   \n",
       "1169  ['1/2 cup apple cider vinegar', '6 Tbsp. peach...   \n",
       "780   ['1 (3–4-lb.) corned beef brisket', '2 lb. rus...   \n",
       "204   ['3 tsp. peanut or vegetable oil, divided', '2...   \n",
       "159   ['1 teaspoon vegetable oil', '4 large bone-in,...   \n",
       "600   ['2 cups all-purpose flour, plus more for dust...   \n",
       "\n",
       "                                           Instructions  \\\n",
       "0     Pat chicken dry with paper towels, season all ...   \n",
       "1595  Place salt and brown sugar in a small bowl and...   \n",
       "1234  Remove any slippery outer layers from ramp bul...   \n",
       "137   Using a fork, mix lime zest and juice, chiles,...   \n",
       "171   Add paprika, chili powder, cumin, brown sugar,...   \n",
       "872   Pulse cheese, flour, salt, and cayenne in a fo...   \n",
       "1586  Heat oil in a large saucepan over medium-high....   \n",
       "1603  Preheat oven to 425ºF. Line 2 rimmed baking sh...   \n",
       "1710  Determine how much salt you need for your bird...   \n",
       "1826  Preheat the oven to 350°F. Line two standard c...   \n",
       "1669  Preheat oven to 425°F. Grease oval pan with oi...   \n",
       "735   Combine oyster sauce, vinegar, soy sauce, brow...   \n",
       "1738  Preheat oven to 450°F. Roll out dough on a lig...   \n",
       "1451  Combine the jam, vinegar, and red pepper flake...   \n",
       "1602  Position a rack in center of oven; preheat to ...   \n",
       "1599  Preheat oven to 375°F. Season squash with 1 ts...   \n",
       "1247  For the miso butter, combine the softened butt...   \n",
       "945   Place a large cast-iron skillet in oven; prehe...   \n",
       "122   Mix the flour and pork lard with your fingers ...   \n",
       "1246  Preheat the oven to 375°F.\\nIn a bowl, combine...   \n",
       "59    Rinse rice in several changes of cold water in...   \n",
       "963   Mix salt, brown sugar, and pepper with your fi...   \n",
       "309   Preheat oven to 400°F. Place potatoes in a med...   \n",
       "1397  Place the vinegar, water, bay leaves, cinnamon...   \n",
       "1953  Set a wire rack inside a rimmed baking sheet a...   \n",
       "1169  Whisk vinegar, peach nectar, oil, hot sauce, r...   \n",
       "780   Place corned beef in a large pot. Add enough w...   \n",
       "204   Heat 1 tsp. peanut oil in a large skillet over...   \n",
       "159   Heat the oil in a shallow Dutch oven or casser...   \n",
       "600   Pulse 2 cups flour and 1 1/4 tsp. kosher salt ...   \n",
       "\n",
       "                                             Image_Name  \\\n",
       "0     miso-butter-roast-chicken-acorn-squash-panzanella   \n",
       "1595                          stock-braised-turkey-legs   \n",
       "1234                                      ramp-fritters   \n",
       "137                                   jerk-potato-salad   \n",
       "171                 pulled-pork-sandwiches-big-hurt-bbq   \n",
       "872                            pimiento-cheese-crackers   \n",
       "1586                                   make-ahead-gravy   \n",
       "1603  green-bean-and-mushroom-casserole-with-crispy-...   \n",
       "1710                       grilled-turkey-under-a-brick   \n",
       "1826                            cinnamon-apple-cupcakes   \n",
       "1669    vegan-tofurkey-with-mushroom-stuffing-and-gravy   \n",
       "735                                      cashew-chicken   \n",
       "1738                  tomato-tart-with-chickpea-crumble   \n",
       "1451                    cashew-and-coconut-fried-shrimp   \n",
       "1602       caramel-apple-drip-cake-with-candied-walnuts   \n",
       "1599          spiced-turkey-chili-with-spaghetti-squash   \n",
       "1247                 pan-seared-ribeye-with-miso-butter   \n",
       "945        skillet-dressing-with-cornbread-and-biscuits   \n",
       "122                 tortillas-de-harina-flour-tortillas   \n",
       "1246              blackened-salmon-with-pineapple-salsa   \n",
       "59                      pan-seared-salt-and-pepper-fish   \n",
       "963                                   turkey-for-twenty   \n",
       "309                                  cabbage-potato-pie   \n",
       "1397  oven-roasted-maple-and-bourbon-barbecue-pork-ribs   \n",
       "1953                               korean-fried-chicken   \n",
       "1169                               sweet-and-spicy-slaw   \n",
       "780   corned-beef-with-crispy-roasted-potatoes-and-c...   \n",
       "204                         pork-and-asparagus-stir-fry   \n",
       "159   caribbean-smothered-chicken-with-coconut-lime-...   \n",
       "600                                      tomato-galette   \n",
       "\n",
       "                                    Cleaned_Ingredients  \\\n",
       "0     ['1 (3½–4-lb.) whole chicken', '2¾ tsp. kosher...   \n",
       "1595  ['2 tablespoons Diamond Crystal or 1 tablespoo...   \n",
       "1234  ['1 cup all-purpose flour', '3/4 cup rice flou...   \n",
       "137   ['Zest and juice of 2 limes', '2 habanero chil...   \n",
       "171   ['4 tablespoons sweet paprika', '2 tablespoons...   \n",
       "872   ['12 oz. sharp cheddar, coarsely grated (about...   \n",
       "1586  ['1 tablespoon vegetable oil', '1 pound chicke...   \n",
       "1603  ['2 pounds mixed wild mushrooms, trimmed, halv...   \n",
       "1710  ['Diamond Crystal or Morton kosher salt (see b...   \n",
       "1826  ['1 cup granulated sugar', '3/4 cup butter, so...   \n",
       "1669  ['4 tablespoons vegetable oil, divided, plus m...   \n",
       "735   ['2 Tbsp. oyster sauce', '1 Tbsp. rice vinegar...   \n",
       "1738  ['1 (7 1/2-ounce) prepared pie crust or homema...   \n",
       "1451  ['1/2 cup mango peach jam', '2 tablespoons whi...   \n",
       "1602  ['1 cup raw walnuts', 'Nonstick vegetable oil ...   \n",
       "1599  ['2 small or 1 large spaghetti squash (3–3 1/2...   \n",
       "1247  ['1/4 cup (56 g) unsalted butter, softened', '...   \n",
       "945   ['1 1/2 cups fine-grind white cornmeal', '1/2 ...   \n",
       "122   ['3 cups all-purpose flour, plus more if neede...   \n",
       "1246  ['1 tablespoon ground paprika', '1 teaspoon ga...   \n",
       "59    ['1 cup short-grain sushi rice', '8 scallions'...   \n",
       "963   ['3/4 cup Diamond Crystal or 7 Tbsp. Morton ko...   \n",
       "309   ['2 lb. russet potatoes, peeled, cut into 2\" p...   \n",
       "1397  ['2 cups (500ml) malt vinegar', '2 quarts (2 l...   \n",
       "1953  ['Vegetable or canola oil (for frying; about 2...   \n",
       "1169  ['1/2 cup apple cider vinegar', '6 Tbsp. peach...   \n",
       "780   ['1 (3–4-lb.) corned beef brisket', '2 lb. rus...   \n",
       "204   ['3 tsp. peanut or vegetable oil, divided', '2...   \n",
       "159   ['1 teaspoon vegetable oil', '4 large bone-in,...   \n",
       "600   ['2 cups all-purpose flour, plus more for dust...   \n",
       "\n",
       "                                     Bag_Of_Ingredients  \n",
       "0     [chicken, acorn, squash, sage, rosemary, butte...  \n",
       "1595  [light, brown, turkey, legs, thigh, drumstick,...  \n",
       "1234  [allpurpose, flour, rice, flour, baking, powde...  \n",
       "137   [juice, limes, habanero, chiles, seeds, ginger...  \n",
       "171   [sweet, paprika, chili, powder, ground, cumin,...  \n",
       "872   [cheddar, allpurpose, flour, cayenne, pepper, ...  \n",
       "1586  [vegetable, oil, chicken, wings, onion, carrot...  \n",
       "1603  [wild, mushrooms, thyme, extravirgin, olive, o...  \n",
       "1710  [ground, mustard, powder, paprika, dried, thym...  \n",
       "1826  [granulated, butter, eggs, vanilla, extract, m...  \n",
       "1669  [vegetable, oil, french, demi, baguette, raw, ...  \n",
       "735   [oyster, sauce, rice, vinegar, soy, sauce, lig...  \n",
       "1738  [pie, crust, pie, dough, defrosted, allpurpose...  \n",
       "1451  [mango, peach, jam, white, vinegar, red, peppe...  \n",
       "1602  [raw, walnuts, vegetable, oil, allpurpose, flo...  \n",
       "1599  [spaghetti, squash, extravirgin, olive, oil, g...  \n",
       "1247  [g, butter, g, yellow, miso, paste, g, green, ...  \n",
       "945   [finegrind, white, cornmeal, allpurpose, flour...  \n",
       "122   [allpurpose, flour, pork, lard, vegetable, sho...  \n",
       "1246  [ground, paprika, garlic, granules, dried, thy...  \n",
       "59    [shortgrain, sushi, rice, scallions, ginger, v...  \n",
       "963   [light, brown, ground, black, pepper, turkey, ...  \n",
       "309   [russet, potatoes, butter, savoy, cabbage, bac...  \n",
       "1397  [malt, vinegar, liters, bay, leaves, cinnamon,...  \n",
       "1953  [vegetable, canola, oil, sesame, seeds, sesame...  \n",
       "1169  [apple, cider, vinegar, peach, nectar, juice, ...  \n",
       "780   [corned, beef, brisket, russet, potatoes, extr...  \n",
       "204   [peanut, vegetable, oil, asparagus, ground, po...  \n",
       "159   [vegetable, oil, chicken, ground, black, peppe...  \n",
       "600   [allpurpose, flour, butter, apple, cider, vine...  "
      ]
     },
     "execution_count": 197,
     "metadata": {},
     "output_type": "execute_result"
    }
   ],
   "source": [
    "model.get_similar_recipes(ingredients,df,nrow=30)"
   ]
  },
  {
   "cell_type": "code",
   "execution_count": null,
   "id": "79238adb",
   "metadata": {},
   "outputs": [],
   "source": []
  }
 ],
 "metadata": {
  "kernelspec": {
   "display_name": "Python 3 (ipykernel)",
   "language": "python",
   "name": "python3"
  },
  "language_info": {
   "codemirror_mode": {
    "name": "ipython",
    "version": 3
   },
   "file_extension": ".py",
   "mimetype": "text/x-python",
   "name": "python",
   "nbconvert_exporter": "python",
   "pygments_lexer": "ipython3",
   "version": "3.8.12"
  },
  "toc": {
   "base_numbering": 1,
   "nav_menu": {},
   "number_sections": true,
   "sideBar": true,
   "skip_h1_title": false,
   "title_cell": "Table of Contents",
   "title_sidebar": "Contents",
   "toc_cell": false,
   "toc_position": {},
   "toc_section_display": true,
   "toc_window_display": false
  }
 },
 "nbformat": 4,
 "nbformat_minor": 5
}
