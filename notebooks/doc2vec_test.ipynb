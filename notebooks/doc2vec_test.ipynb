{
 "cells": [
  {
   "cell_type": "code",
   "execution_count": 87,
   "id": "7fdfc91f",
   "metadata": {},
   "outputs": [],
   "source": [
    "import pandas as pd\n",
    "import gensim\n",
    "from collections import namedtuple\n",
    "import numpy as np"
   ]
  },
  {
   "cell_type": "code",
   "execution_count": 36,
   "id": "db20b1e1",
   "metadata": {},
   "outputs": [],
   "source": [
    "recipes_df = pd.read_csv(\"clean_data.csv\")"
   ]
  },
  {
   "cell_type": "code",
   "execution_count": 37,
   "id": "efe3a383",
   "metadata": {},
   "outputs": [],
   "source": [
    "def clean_list(ingredient_list):\n",
    "    ingredient_list = ingredient_list[2:-2]\n",
    "    ingredient_list = ''.join(ingredient_list)\n",
    "    ingredient_list = ingredient_list.split(\"', '\")\n",
    "    return ingredient_list"
   ]
  },
  {
   "cell_type": "code",
   "execution_count": 38,
   "id": "d6207c5a",
   "metadata": {},
   "outputs": [],
   "source": [
    "recipes_df[\"Clean_bag\"]=recipes_df[\"Bag_Of_Ingredients\"].map(clean_list)"
   ]
  },
  {
   "cell_type": "code",
   "execution_count": 128,
   "id": "22351dce",
   "metadata": {},
   "outputs": [],
   "source": [
    "bag_of_ingredients = recipes_df[\"Clean_bag\"][0:13000]"
   ]
  },
  {
   "cell_type": "code",
   "execution_count": 129,
   "id": "2375dfc5",
   "metadata": {},
   "outputs": [
    {
     "data": {
      "text/plain": [
       "'chicken acorn squash sage rosemary butter ground allspice red pepper ground black pepper loaf sturdy white bread apples gala pink lady extravirgin olive oil red onion apple cider vinegar white miso allpurpose flour butter dry white wine chicken broth white miso ground pepper'"
      ]
     },
     "execution_count": 129,
     "metadata": {},
     "output_type": "execute_result"
    }
   ],
   "source": [
    "' '.join(bag_of_ingredients[0])"
   ]
  },
  {
   "cell_type": "code",
   "execution_count": 130,
   "id": "290e22c8",
   "metadata": {},
   "outputs": [],
   "source": [
    "bag_of_ingredients = [' '.join(i) for i in bag_of_ingredients]"
   ]
  },
  {
   "cell_type": "code",
   "execution_count": 131,
   "id": "5e2f03a4",
   "metadata": {},
   "outputs": [],
   "source": [
    "docs = []\n",
    "analyzedDocument = namedtuple('AnalyzedDocument', 'words tags')\n",
    "for i, text in enumerate(bag_of_ingredients):\n",
    "    tags = [i]\n",
    "    docs.append(analyzedDocument(text, tags))"
   ]
  },
  {
   "cell_type": "code",
   "execution_count": 132,
   "id": "6493f8ba",
   "metadata": {},
   "outputs": [
    {
     "data": {
      "text/plain": [
       "AnalyzedDocument(words='green unripe mangoes shallots indian thai green chiles ginger matchsticks cloves garlic matchsticks coconut vinegar white vinegar coconut milk coconut oil black mustard seeds dried red chiles snapped curry leaves fried onions basmati rice', tags=[40])"
      ]
     },
     "execution_count": 132,
     "metadata": {},
     "output_type": "execute_result"
    }
   ],
   "source": [
    "docs[40]"
   ]
  },
  {
   "cell_type": "code",
   "execution_count": 133,
   "id": "ee815dda",
   "metadata": {},
   "outputs": [],
   "source": [
    "model = gensim.models.doc2vec.Doc2Vec(docs,vector_size=50, min_count=4, epochs=40)"
   ]
  },
  {
   "cell_type": "code",
   "execution_count": 134,
   "id": "da704293",
   "metadata": {},
   "outputs": [
    {
     "data": {
      "text/plain": [
       "array([ 0.16909082, -0.03647247, -0.40935826, -0.015297  , -0.42651433,\n",
       "       -0.22351599,  0.29626876, -0.06090831, -0.27130464, -0.39945838,\n",
       "        0.3750459 , -0.03316819, -0.05699537, -0.1964929 , -0.2396947 ,\n",
       "       -0.27734798,  0.2548483 , -0.07835688,  0.1499732 , -0.31903744,\n",
       "       -0.04004226, -0.3082933 , -0.26603878,  0.17921123, -0.06540035,\n",
       "        0.12912829, -0.14297013, -0.00471811,  0.36063254,  0.15574457,\n",
       "        0.09559243, -0.00530355,  0.11485536, -0.25383255, -0.09766246,\n",
       "        0.04231807,  0.14270818,  0.14914736,  0.19074996,  0.04778679,\n",
       "        0.4766084 , -0.14234996,  0.21107112, -0.33469436, -0.17490275,\n",
       "        0.22559212,  0.18341985, -0.4618018 , -0.03809474,  0.02620652],\n",
       "      dtype=float32)"
      ]
     },
     "execution_count": 134,
     "metadata": {},
     "output_type": "execute_result"
    }
   ],
   "source": [
    "model.dv[0]"
   ]
  },
  {
   "cell_type": "code",
   "execution_count": 166,
   "id": "4f1c8f5f",
   "metadata": {},
   "outputs": [],
   "source": [
    "ingredients = [\"cheese\",\"onion\",\"tortilla\",\"lettuce\",\"sausage\",\"ham\",\"tomato\",\"tuna\",\"pesto\",\"salsa\",\"mustard\",\"cucumber\",\"potato\",\"sweet\"]"
   ]
  },
  {
   "cell_type": "code",
   "execution_count": 167,
   "id": "28cb7eff",
   "metadata": {},
   "outputs": [],
   "source": [
    "av_in_vector = model.infer_vector(ingredients)"
   ]
  },
  {
   "cell_type": "code",
   "execution_count": 163,
   "id": "5cde21e9",
   "metadata": {},
   "outputs": [],
   "source": [
    "from numpy import dot\n",
    "from numpy.linalg import norm\n",
    "\n",
    "def similar_recipe(ingredients):\n",
    "    cos_sim = []\n",
    "    for i in range(0,len(model.dv)):\n",
    "            cos_sim.append(np.dot(ingredients,model.dv[i])/(norm(ingredients)*norm(model.dv[i])))\n",
    "    dis_array = np.array(cos_sim)\n",
    "    return dis_array"
   ]
  },
  {
   "cell_type": "code",
   "execution_count": 164,
   "id": "ce89c4b6",
   "metadata": {},
   "outputs": [],
   "source": [
    "def getListofRecipes(cos_sim,n):\n",
    "    n_index = (-cos_sim).argsort()[:n]\n",
    "    titles = []\n",
    "    for i in n_index:\n",
    "        titles.append(recipes_df.iloc[i,1:3])\n",
    "    return titles"
   ]
  },
  {
   "cell_type": "code",
   "execution_count": 168,
   "id": "9f234623",
   "metadata": {},
   "outputs": [
    {
     "data": {
      "text/html": [
       "<div>\n",
       "<style scoped>\n",
       "    .dataframe tbody tr th:only-of-type {\n",
       "        vertical-align: middle;\n",
       "    }\n",
       "\n",
       "    .dataframe tbody tr th {\n",
       "        vertical-align: top;\n",
       "    }\n",
       "\n",
       "    .dataframe thead th {\n",
       "        text-align: right;\n",
       "    }\n",
       "</style>\n",
       "<table border=\"1\" class=\"dataframe\">\n",
       "  <thead>\n",
       "    <tr style=\"text-align: right;\">\n",
       "      <th></th>\n",
       "      <th>Title</th>\n",
       "      <th>Ingredients</th>\n",
       "    </tr>\n",
       "  </thead>\n",
       "  <tbody>\n",
       "    <tr>\n",
       "      <th>2834</th>\n",
       "      <td>Cumin-Chile Lamb Kebabs with Garlic Yogurt</td>\n",
       "      <td>['1 garlic clove, grated', '1/2 teaspoon finel...</td>\n",
       "    </tr>\n",
       "    <tr>\n",
       "      <th>774</th>\n",
       "      <td>Sheet-Pan Chicken Meatballs and Charred Broccoli</td>\n",
       "      <td>['2/3 cup ketchup', '1/4 cup Worcestershire sa...</td>\n",
       "    </tr>\n",
       "    <tr>\n",
       "      <th>10143</th>\n",
       "      <td>Polenta and Vegetables with Roasted Red Pepper...</td>\n",
       "      <td>['1 cup uncooked instant polenta', '2/3 cup gr...</td>\n",
       "    </tr>\n",
       "    <tr>\n",
       "      <th>4426</th>\n",
       "      <td>Dirty Fried Rice</td>\n",
       "      <td>['2 tablespoons vegetable oil, divided', '4 ou...</td>\n",
       "    </tr>\n",
       "    <tr>\n",
       "      <th>5337</th>\n",
       "      <td>Mahi Mahi Fish Tacos with Chipotle Slaw and Ro...</td>\n",
       "      <td>['2 cups chopped peeled and cored fresh pineap...</td>\n",
       "    </tr>\n",
       "    <tr>\n",
       "      <th>1152</th>\n",
       "      <td>Grilled Pork Ribs with Gochujang Barbecue Sauce</td>\n",
       "      <td>['2/3 cup apple cider vinegar', '1/2 cup (pack...</td>\n",
       "    </tr>\n",
       "    <tr>\n",
       "      <th>5039</th>\n",
       "      <td>Spiced Dark and Stormy</td>\n",
       "      <td>['2 teaspoons allspice berries', '2 teaspoons ...</td>\n",
       "    </tr>\n",
       "    <tr>\n",
       "      <th>5102</th>\n",
       "      <td>Portobello Frites</td>\n",
       "      <td>['2 russet potatoes, scrubbed', '1 teaspoon co...</td>\n",
       "    </tr>\n",
       "    <tr>\n",
       "      <th>11838</th>\n",
       "      <td>The Cabbage Soup Diet</td>\n",
       "      <td>['1 head green cabbage, finely shredded or cho...</td>\n",
       "    </tr>\n",
       "    <tr>\n",
       "      <th>5341</th>\n",
       "      <td>Minestrone Salad</td>\n",
       "      <td>['12 ounces fingerling or baby red potatoes', ...</td>\n",
       "    </tr>\n",
       "  </tbody>\n",
       "</table>\n",
       "</div>"
      ],
      "text/plain": [
       "                                                   Title  \\\n",
       "2834          Cumin-Chile Lamb Kebabs with Garlic Yogurt   \n",
       "774     Sheet-Pan Chicken Meatballs and Charred Broccoli   \n",
       "10143  Polenta and Vegetables with Roasted Red Pepper...   \n",
       "4426                                    Dirty Fried Rice   \n",
       "5337   Mahi Mahi Fish Tacos with Chipotle Slaw and Ro...   \n",
       "1152     Grilled Pork Ribs with Gochujang Barbecue Sauce   \n",
       "5039                              Spiced Dark and Stormy   \n",
       "5102                                   Portobello Frites   \n",
       "11838                              The Cabbage Soup Diet   \n",
       "5341                                    Minestrone Salad   \n",
       "\n",
       "                                             Ingredients  \n",
       "2834   ['1 garlic clove, grated', '1/2 teaspoon finel...  \n",
       "774    ['2/3 cup ketchup', '1/4 cup Worcestershire sa...  \n",
       "10143  ['1 cup uncooked instant polenta', '2/3 cup gr...  \n",
       "4426   ['2 tablespoons vegetable oil, divided', '4 ou...  \n",
       "5337   ['2 cups chopped peeled and cored fresh pineap...  \n",
       "1152   ['2/3 cup apple cider vinegar', '1/2 cup (pack...  \n",
       "5039   ['2 teaspoons allspice berries', '2 teaspoons ...  \n",
       "5102   ['2 russet potatoes, scrubbed', '1 teaspoon co...  \n",
       "11838  ['1 head green cabbage, finely shredded or cho...  \n",
       "5341   ['12 ounces fingerling or baby red potatoes', ...  "
      ]
     },
     "execution_count": 168,
     "metadata": {},
     "output_type": "execute_result"
    }
   ],
   "source": [
    "pd.DataFrame(getListofRecipes(similar_recipe(av_in_vector),10))"
   ]
  },
  {
   "cell_type": "code",
   "execution_count": null,
   "id": "0200cfa6",
   "metadata": {},
   "outputs": [],
   "source": []
  },
  {
   "cell_type": "code",
   "execution_count": null,
   "id": "ff98c162",
   "metadata": {},
   "outputs": [],
   "source": []
  }
 ],
 "metadata": {
  "kernelspec": {
   "display_name": "Python 3 (ipykernel)",
   "language": "python",
   "name": "python3"
  },
  "language_info": {
   "codemirror_mode": {
    "name": "ipython",
    "version": 3
   },
   "file_extension": ".py",
   "mimetype": "text/x-python",
   "name": "python",
   "nbconvert_exporter": "python",
   "pygments_lexer": "ipython3",
   "version": "3.8.12"
  },
  "toc": {
   "base_numbering": 1,
   "nav_menu": {},
   "number_sections": true,
   "sideBar": true,
   "skip_h1_title": false,
   "title_cell": "Table of Contents",
   "title_sidebar": "Contents",
   "toc_cell": false,
   "toc_position": {},
   "toc_section_display": true,
   "toc_window_display": false
  }
 },
 "nbformat": 4,
 "nbformat_minor": 5
}
