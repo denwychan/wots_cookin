{
 "cells": [
  {
   "cell_type": "code",
   "execution_count": 1,
   "id": "64cabb16",
   "metadata": {},
   "outputs": [],
   "source": [
    "import pandas as pd\n",
    "import gensim\n",
    "import numpy as np"
   ]
  },
  {
   "cell_type": "code",
   "execution_count": 2,
   "id": "aaa8e923",
   "metadata": {},
   "outputs": [],
   "source": [
    "recipes_df = pd.read_csv(\"clean_data.csv\")"
   ]
  },
  {
   "cell_type": "code",
   "execution_count": 3,
   "id": "7f703ef7",
   "metadata": {},
   "outputs": [],
   "source": [
    "def clean_list(ingredient_list):\n",
    "    ingredient_list = ingredient_list[2:-2]\n",
    "    ingredient_list = ''.join(ingredient_list)\n",
    "    ingredient_list = ingredient_list.split(\"', '\")\n",
    "    return ingredient_list"
   ]
  },
  {
   "cell_type": "code",
   "execution_count": 4,
   "id": "9389bc1e",
   "metadata": {},
   "outputs": [],
   "source": [
    "recipes_df[\"Clean_bag\"]=recipes_df[\"Bag_Of_Ingredients\"].map(clean_list)"
   ]
  },
  {
   "cell_type": "code",
   "execution_count": 21,
   "id": "0b84a91d",
   "metadata": {},
   "outputs": [],
   "source": [
    "bag_of_ingredients = recipes_df[\"Clean_bag\"]"
   ]
  },
  {
   "cell_type": "code",
   "execution_count": 6,
   "id": "e3e795e8",
   "metadata": {},
   "outputs": [
    {
     "name": "stdout",
     "output_type": "stream",
     "text": [
      "['fasttext-wiki-news-subwords-300', 'conceptnet-numberbatch-17-06-300', 'word2vec-ruscorpora-300', 'word2vec-google-news-300', 'glove-wiki-gigaword-50', 'glove-wiki-gigaword-100', 'glove-wiki-gigaword-200', 'glove-wiki-gigaword-300', 'glove-twitter-25', 'glove-twitter-50', 'glove-twitter-100', 'glove-twitter-200', '__testing_word2vec-matrix-synopsis']\n"
     ]
    }
   ],
   "source": [
    "import gensim.downloader\n",
    "\n",
    "print(list(gensim.downloader.info()['models'].keys()))\n",
    "\n",
    "model_wiki = gensim.downloader.load('glove-wiki-gigaword-50')"
   ]
  },
  {
   "cell_type": "code",
   "execution_count": 7,
   "id": "e6a37298",
   "metadata": {},
   "outputs": [],
   "source": [
    "vec_keys = model_wiki.__dict__[\"index_to_key\"]"
   ]
  },
  {
   "cell_type": "code",
   "execution_count": 8,
   "id": "cd27568a",
   "metadata": {},
   "outputs": [
    {
     "data": {
      "text/plain": [
       "[('meat', 0.9089884757995605),\n",
       " ('fried', 0.8994253873825073),\n",
       " ('pork', 0.892033040523529),\n",
       " ('soup', 0.869308590888977),\n",
       " ('sausage', 0.8679246306419373),\n",
       " ('roasted', 0.8635038137435913),\n",
       " ('roast', 0.8601908087730408),\n",
       " ('cooked', 0.8594754934310913),\n",
       " ('shrimp', 0.8334652185440063),\n",
       " ('beef', 0.8325141668319702)]"
      ]
     },
     "execution_count": 8,
     "metadata": {},
     "output_type": "execute_result"
    }
   ],
   "source": [
    "model_wiki.most_similar('chicken', topn=10)"
   ]
  },
  {
   "cell_type": "code",
   "execution_count": 9,
   "id": "ffdaf4ab",
   "metadata": {},
   "outputs": [],
   "source": [
    "def getRecipeEmbedding(sentence):\n",
    "    countFound = 0\n",
    "    embeddingList = []\n",
    "    for wordx in sentence:\n",
    "        if wordx in vec_keys:\n",
    "            vector1 = model_wiki[wordx]\n",
    "            embeddingList.append(vector1)\n",
    "            countFound+=1\n",
    "    if countFound>0:\n",
    "        return np.true_divide(sum(embeddingList), countFound)\n",
    "    else:\n",
    "        return np.zeros(50,)"
   ]
  },
  {
   "cell_type": "code",
   "execution_count": 10,
   "id": "00e85e66",
   "metadata": {},
   "outputs": [],
   "source": [
    "def recipes_list(bag_of_ingredients):\n",
    "    recipes_embed_list = []\n",
    "    for i in bag_of_ingredients:\n",
    "            recipes_embed_list.append(getRecipeEmbedding(i))\n",
    "    return recipes_embed_list"
   ]
  },
  {
   "cell_type": "code",
   "execution_count": 22,
   "id": "13930bae",
   "metadata": {},
   "outputs": [],
   "source": [
    "recipes_embed_list = recipes_list(bag_of_ingredients)"
   ]
  },
  {
   "cell_type": "code",
   "execution_count": 12,
   "id": "f2d9e537",
   "metadata": {},
   "outputs": [],
   "source": [
    "from numpy import dot\n",
    "from numpy.linalg import norm\n",
    "\n",
    "def similar_recipe(ingredients_embedded):\n",
    "    cos_sim = []\n",
    "    for i in range(0,len(recipes_embed_list)):\n",
    "        if sum(recipes_embed_list[i]) == 0.0:\n",
    "            cos_sim.append(0)\n",
    "        else:    \n",
    "            cos_sim.append(np.dot(ingredients_embedded,recipes_embed_list[i])/(norm(ingredients_embedded)*norm(recipes_embed_list[i])))\n",
    "    dis_array = np.array(cos_sim)\n",
    "    return dis_array\n"
   ]
  },
  {
   "cell_type": "code",
   "execution_count": 27,
   "id": "b120f845",
   "metadata": {},
   "outputs": [],
   "source": [
    "ingredients = [\"cheese\",\"onion\",\"tortilla\",\"lettuce\",\"sausage\",\"ham\",\"tomato\",\"tuna\",\"pesto\",\"salsa\",\"mustard\",\"cucumber\",\"potato\",\"sweet\"]"
   ]
  },
  {
   "cell_type": "code",
   "execution_count": 28,
   "id": "97e4c255",
   "metadata": {},
   "outputs": [],
   "source": [
    "ingredients_embedded = getRecipeEmbedding(ingredients)"
   ]
  },
  {
   "cell_type": "code",
   "execution_count": 29,
   "id": "d35c99c3",
   "metadata": {},
   "outputs": [],
   "source": [
    "def getListofRecipes(cos_sim,n):\n",
    "    n_index = (-cos_sim).argsort()[:n]\n",
    "    titles = []\n",
    "    for i in n_index:\n",
    "        titles.append(recipes_df.iloc[i,1:3])\n",
    "    return titles\n"
   ]
  },
  {
   "cell_type": "code",
   "execution_count": 30,
   "id": "9c7b2c61",
   "metadata": {},
   "outputs": [
    {
     "data": {
      "text/html": [
       "<div>\n",
       "<style scoped>\n",
       "    .dataframe tbody tr th:only-of-type {\n",
       "        vertical-align: middle;\n",
       "    }\n",
       "\n",
       "    .dataframe tbody tr th {\n",
       "        vertical-align: top;\n",
       "    }\n",
       "\n",
       "    .dataframe thead th {\n",
       "        text-align: right;\n",
       "    }\n",
       "</style>\n",
       "<table border=\"1\" class=\"dataframe\">\n",
       "  <thead>\n",
       "    <tr style=\"text-align: right;\">\n",
       "      <th></th>\n",
       "      <th>Title</th>\n",
       "      <th>Ingredients</th>\n",
       "    </tr>\n",
       "  </thead>\n",
       "  <tbody>\n",
       "    <tr>\n",
       "      <th>4071</th>\n",
       "      <td>Po-Tacos</td>\n",
       "      <td>['4 sweet or russet potatoes', 'pesto, greek y...</td>\n",
       "    </tr>\n",
       "    <tr>\n",
       "      <th>12908</th>\n",
       "      <td>Stacked Enchiladas with Turkey and Chipotle Beans</td>\n",
       "      <td>['2 10-ounce cans medium-hot enchilada sauce',...</td>\n",
       "    </tr>\n",
       "    <tr>\n",
       "      <th>2296</th>\n",
       "      <td>\"Nextover\" Chicken Tacos with Quick Refried Beans</td>\n",
       "      <td>['4 cooked chicken thighs from Crispy Chicken ...</td>\n",
       "    </tr>\n",
       "    <tr>\n",
       "      <th>605</th>\n",
       "      <td>Smash Burger Alfresco</td>\n",
       "      <td>['1 cup finely chopped dill pickles', '1/2 cup...</td>\n",
       "    </tr>\n",
       "    <tr>\n",
       "      <th>2216</th>\n",
       "      <td>Polish-Style Pizza with Mushrooms and Chives (...</td>\n",
       "      <td>['1 (8–9\") soft hoagie roll or small Italian l...</td>\n",
       "    </tr>\n",
       "    <tr>\n",
       "      <th>9154</th>\n",
       "      <td>Gorditas</td>\n",
       "      <td>['1 8.25-ounce can creamed corn', '1/2 teaspoo...</td>\n",
       "    </tr>\n",
       "    <tr>\n",
       "      <th>8309</th>\n",
       "      <td>Poblano and Mushroom Tacos</td>\n",
       "      <td>['2 tablespoons vegetable oil, divided', '1 fr...</td>\n",
       "    </tr>\n",
       "    <tr>\n",
       "      <th>3891</th>\n",
       "      <td>Gochujang Grilled Cheese</td>\n",
       "      <td>['2 ounces grated Gruyère (about 6 tablespoons...</td>\n",
       "    </tr>\n",
       "    <tr>\n",
       "      <th>7003</th>\n",
       "      <td>Chicken and Cheese Sliders</td>\n",
       "      <td>['Vegetable oil cooking spray', '1 green bell ...</td>\n",
       "    </tr>\n",
       "    <tr>\n",
       "      <th>9867</th>\n",
       "      <td>Bbq Onion and Smoked Gouda Quesadillas with Pe...</td>\n",
       "      <td>['6 tablespoons olive oil, divided', '1 pound ...</td>\n",
       "    </tr>\n",
       "  </tbody>\n",
       "</table>\n",
       "</div>"
      ],
      "text/plain": [
       "                                                   Title  \\\n",
       "4071                                            Po-Tacos   \n",
       "12908  Stacked Enchiladas with Turkey and Chipotle Beans   \n",
       "2296   \"Nextover\" Chicken Tacos with Quick Refried Beans   \n",
       "605                                Smash Burger Alfresco   \n",
       "2216   Polish-Style Pizza with Mushrooms and Chives (...   \n",
       "9154                                            Gorditas   \n",
       "8309                          Poblano and Mushroom Tacos   \n",
       "3891                            Gochujang Grilled Cheese   \n",
       "7003                          Chicken and Cheese Sliders   \n",
       "9867   Bbq Onion and Smoked Gouda Quesadillas with Pe...   \n",
       "\n",
       "                                             Ingredients  \n",
       "4071   ['4 sweet or russet potatoes', 'pesto, greek y...  \n",
       "12908  ['2 10-ounce cans medium-hot enchilada sauce',...  \n",
       "2296   ['4 cooked chicken thighs from Crispy Chicken ...  \n",
       "605    ['1 cup finely chopped dill pickles', '1/2 cup...  \n",
       "2216   ['1 (8–9\") soft hoagie roll or small Italian l...  \n",
       "9154   ['1 8.25-ounce can creamed corn', '1/2 teaspoo...  \n",
       "8309   ['2 tablespoons vegetable oil, divided', '1 fr...  \n",
       "3891   ['2 ounces grated Gruyère (about 6 tablespoons...  \n",
       "7003   ['Vegetable oil cooking spray', '1 green bell ...  \n",
       "9867   ['6 tablespoons olive oil, divided', '1 pound ...  "
      ]
     },
     "execution_count": 30,
     "metadata": {},
     "output_type": "execute_result"
    }
   ],
   "source": [
    "pd.DataFrame(getListofRecipes(similar_recipe(ingredients_embedded),10))"
   ]
  },
  {
   "cell_type": "code",
   "execution_count": null,
   "id": "76c330d0",
   "metadata": {},
   "outputs": [],
   "source": []
  }
 ],
 "metadata": {
  "kernelspec": {
   "display_name": "Python 3 (ipykernel)",
   "language": "python",
   "name": "python3"
  },
  "language_info": {
   "codemirror_mode": {
    "name": "ipython",
    "version": 3
   },
   "file_extension": ".py",
   "mimetype": "text/x-python",
   "name": "python",
   "nbconvert_exporter": "python",
   "pygments_lexer": "ipython3",
   "version": "3.8.12"
  },
  "toc": {
   "base_numbering": 1,
   "nav_menu": {},
   "number_sections": true,
   "sideBar": true,
   "skip_h1_title": false,
   "title_cell": "Table of Contents",
   "title_sidebar": "Contents",
   "toc_cell": false,
   "toc_position": {},
   "toc_section_display": true,
   "toc_window_display": false
  }
 },
 "nbformat": 4,
 "nbformat_minor": 5
}
